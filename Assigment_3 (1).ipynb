{
 "cells": [
  {
   "cell_type": "markdown",
   "id": "1baad9c4",
   "metadata": {},
   "source": [
    "1. Why are functions advantageous to have in your programs?"
   ]
  },
  {
   "cell_type": "markdown",
   "id": "6ccafbfe",
   "metadata": {},
   "source": [
    "functions perform perticular task they have given and also its easy for us to modify look after sometime to make changes in \n",
    "function rather whole program line by line"
   ]
  },
  {
   "cell_type": "markdown",
   "id": "070a2862",
   "metadata": {},
   "source": [
    "2. When does the code in a function run: when it's specified or when it's called?"
   ]
  },
  {
   "cell_type": "markdown",
   "id": "493220ed",
   "metadata": {},
   "source": [
    "fuction run when its called"
   ]
  },
  {
   "cell_type": "markdown",
   "id": "12c12101",
   "metadata": {},
   "source": [
    "3. What statement creates a function?\n"
   ]
  },
  {
   "cell_type": "markdown",
   "id": "838f82e5",
   "metadata": {},
   "source": [
    "def keword creates a function"
   ]
  },
  {
   "cell_type": "markdown",
   "id": "a5d8cffc",
   "metadata": {},
   "source": [
    "4. What is the difference between a function and a function call?"
   ]
  },
  {
   "cell_type": "markdown",
   "id": "e80585b2",
   "metadata": {},
   "source": [
    "function is created using def keyword and will not get executed untill we call the function and on the other hand fuction call is calling the function and when we call function, function get executed"
   ]
  },
  {
   "cell_type": "markdown",
   "id": "59771b18",
   "metadata": {},
   "source": [
    "5. How many global scopes are there in a Python program? How many local scopes?"
   ]
  },
  {
   "cell_type": "markdown",
   "id": "c0be8e6d",
   "metadata": {},
   "source": [
    "ther is only one global scope in python and there are as many local scope as we want within different function"
   ]
  },
  {
   "cell_type": "markdown",
   "id": "16903843",
   "metadata": {},
   "source": [
    "6. What happens to variables in a local scope when the function call returns?"
   ]
  },
  {
   "cell_type": "markdown",
   "id": "fdaf56f9",
   "metadata": {},
   "source": [
    "when function call returns local veriable get destroyed"
   ]
  },
  {
   "cell_type": "markdown",
   "id": "2b21d9e1",
   "metadata": {},
   "source": [
    "7. What is the concept of a return value? Is it possible to have a return value in an expression?"
   ]
  },
  {
   "cell_type": "markdown",
   "id": "eb8513ef",
   "metadata": {},
   "source": [
    "Return value returns value to the function which call it, it is not possible to have return value in an expression"
   ]
  },
  {
   "cell_type": "markdown",
   "id": "b3e4826c",
   "metadata": {},
   "source": [
    "8. If a function does not have a return statement, what is the return value of a call to that function?"
   ]
  },
  {
   "cell_type": "markdown",
   "id": "8b240d0f",
   "metadata": {},
   "source": [
    "In this case the return value is undefined"
   ]
  },
  {
   "cell_type": "markdown",
   "id": "9a6dfbf4",
   "metadata": {},
   "source": [
    "9. How do you make a function variable refer to the global variable?"
   ]
  },
  {
   "cell_type": "markdown",
   "id": "2701eb34",
   "metadata": {},
   "source": [
    "we can use global keyword "
   ]
  },
  {
   "cell_type": "markdown",
   "id": "90510cb3",
   "metadata": {},
   "source": [
    "10. What is the data type of None?"
   ]
  },
  {
   "cell_type": "markdown",
   "id": "1597b606",
   "metadata": {},
   "source": [
    "It is data typr of Nontype object "
   ]
  },
  {
   "cell_type": "markdown",
   "id": "b2cab108",
   "metadata": {},
   "source": [
    "11. What does the sentence import areallyourpetsnamederic do?"
   ]
  },
  {
   "cell_type": "markdown",
   "id": "8085b9d4",
   "metadata": {},
   "source": [
    "import the module ...."
   ]
  },
  {
   "cell_type": "markdown",
   "id": "968cd3a8",
   "metadata": {},
   "source": [
    "12. If you had a bacon() feature in a spam module, what would you call it after importing spam?"
   ]
  },
  {
   "cell_type": "markdown",
   "id": "605733ec",
   "metadata": {},
   "source": [
    "`from spam import bacon()"
   ]
  },
  {
   "cell_type": "markdown",
   "id": "afd2ccd9",
   "metadata": {},
   "source": [
    "13. What can you do to save a programme from crashing if it encounters an error?"
   ]
  },
  {
   "cell_type": "markdown",
   "id": "f2f76321",
   "metadata": {},
   "source": [
    "exception handling "
   ]
  },
  {
   "cell_type": "markdown",
   "id": "4103232c",
   "metadata": {},
   "source": [
    "14. What is the purpose of the try clause? What is the purpose of the except clause?"
   ]
  },
  {
   "cell_type": "markdown",
   "id": "3bfc78db",
   "metadata": {},
   "source": [
    "in try we look if the function work correclt or if there is any error happened then we go to except block to handle the error"
   ]
  },
  {
   "cell_type": "code",
   "execution_count": null,
   "id": "fd6daa61",
   "metadata": {},
   "outputs": [],
   "source": []
  },
  {
   "cell_type": "code",
   "execution_count": null,
   "id": "e310bf83",
   "metadata": {},
   "outputs": [],
   "source": []
  }
 ],
 "metadata": {
  "kernelspec": {
   "display_name": "Python 3 (ipykernel)",
   "language": "python",
   "name": "python3"
  },
  "language_info": {
   "codemirror_mode": {
    "name": "ipython",
    "version": 3
   },
   "file_extension": ".py",
   "mimetype": "text/x-python",
   "name": "python",
   "nbconvert_exporter": "python",
   "pygments_lexer": "ipython3",
   "version": "3.9.7"
  }
 },
 "nbformat": 4,
 "nbformat_minor": 5
}
