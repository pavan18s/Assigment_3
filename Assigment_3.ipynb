{
 "cells": [
  {
   "cell_type": "raw",
   "id": "317d61e5",
   "metadata": {},
   "source": [
    "1. Why are functions advantageous to have in your programs?"
   ]
  },
  {
   "cell_type": "markdown",
   "id": "0603c952",
   "metadata": {},
   "source": [
    "functions perform perticular task they have given and also its easy for us to modify look after sometime to make changes in \n",
    "function rather whole program line by line"
   ]
  },
  {
   "cell_type": "raw",
   "id": "64bfc5ac",
   "metadata": {},
   "source": [
    "2. When does the code in a function run: when it's specified or when it's called?"
   ]
  },
  {
   "cell_type": "markdown",
   "id": "23ed35ab",
   "metadata": {},
   "source": [
    "fuction run when its called"
   ]
  },
  {
   "cell_type": "raw",
   "id": "184d3c2e",
   "metadata": {},
   "source": [
    "3. What statement creates a function?\n"
   ]
  },
  {
   "cell_type": "markdown",
   "id": "86f57237",
   "metadata": {},
   "source": [
    "def keword creates a function"
   ]
  },
  {
   "cell_type": "raw",
   "id": "1d7a769c",
   "metadata": {},
   "source": [
    "4. What is the difference between a function and a function call?"
   ]
  },
  {
   "cell_type": "markdown",
   "id": "2126edfd",
   "metadata": {},
   "source": [
    "function is created using def keyword and will not get executed untill we call the function and on the other hand fuction call is calling the function and when we call function, function get executed"
   ]
  },
  {
   "cell_type": "raw",
   "id": "2c409b7a",
   "metadata": {},
   "source": [
    "5. How many global scopes are there in a Python program? How many local scopes?"
   ]
  },
  {
   "cell_type": "markdown",
   "id": "c7b68992",
   "metadata": {},
   "source": [
    "ther is only one global scope in python and there are as many local scope as we want within different function"
   ]
  },
  {
   "cell_type": "raw",
   "id": "cfe0aa21",
   "metadata": {},
   "source": [
    "6. What happens to variables in a local scope when the function call returns?"
   ]
  },
  {
   "cell_type": "markdown",
   "id": "eeabe183",
   "metadata": {},
   "source": [
    "when function call returns local veriable get destroyed"
   ]
  },
  {
   "cell_type": "raw",
   "id": "412e3389",
   "metadata": {},
   "source": [
    "7. What is the concept of a return value? Is it possible to have a return value in an expression?"
   ]
  },
  {
   "cell_type": "markdown",
   "id": "638b5810",
   "metadata": {},
   "source": [
    "Return value returns value to the function which call it, it is not possible to have return value in an expression"
   ]
  },
  {
   "cell_type": "raw",
   "id": "0a3f116c",
   "metadata": {},
   "source": [
    "8. If a function does not have a return statement, what is the return value of a call to that function?"
   ]
  },
  {
   "cell_type": "markdown",
   "id": "b3a2a1de",
   "metadata": {},
   "source": [
    "In this case the return value is undefined"
   ]
  },
  {
   "cell_type": "raw",
   "id": "6d76dfdb",
   "metadata": {},
   "source": [
    "9. How do you make a function variable refer to the global variable?"
   ]
  },
  {
   "cell_type": "markdown",
   "id": "5ac9a619",
   "metadata": {},
   "source": [
    "we can use global keyword "
   ]
  },
  {
   "cell_type": "raw",
   "id": "edd21f8e",
   "metadata": {},
   "source": [
    "10. What is the data type of None?"
   ]
  },
  {
   "cell_type": "markdown",
   "id": "52c77c5a",
   "metadata": {},
   "source": [
    "It is data typr of Nontype object "
   ]
  },
  {
   "cell_type": "raw",
   "id": "95ae07ea",
   "metadata": {},
   "source": [
    "11. What does the sentence import areallyourpetsnamederic do?"
   ]
  },
  {
   "cell_type": "markdown",
   "id": "c641fdab",
   "metadata": {},
   "source": [
    "import the module ...."
   ]
  },
  {
   "cell_type": "raw",
   "id": "f7e88d2a",
   "metadata": {},
   "source": [
    "12. If you had a bacon() feature in a spam module, what would you call it after importing spam?"
   ]
  },
  {
   "cell_type": "markdown",
   "id": "10b86bbd",
   "metadata": {},
   "source": [
    "`from spam import bacon()"
   ]
  },
  {
   "cell_type": "raw",
   "id": "e98f81a9",
   "metadata": {},
   "source": [
    "13. What can you do to save a programme from crashing if it encounters an error?"
   ]
  },
  {
   "cell_type": "markdown",
   "id": "4f776f62",
   "metadata": {},
   "source": [
    "exception handling "
   ]
  },
  {
   "cell_type": "raw",
   "id": "1421fc01",
   "metadata": {},
   "source": [
    "14. What is the purpose of the try clause? What is the purpose of the except clause?"
   ]
  },
  {
   "cell_type": "markdown",
   "id": "e78eb2de",
   "metadata": {},
   "source": [
    "in try we look if the function work correclt or if there is any error happened then we go to except block to handle the error"
   ]
  },
  {
   "cell_type": "code",
   "execution_count": null,
   "id": "e9297d5c",
   "metadata": {},
   "outputs": [],
   "source": []
  },
  {
   "cell_type": "code",
   "execution_count": null,
   "id": "083aa2d0",
   "metadata": {},
   "outputs": [],
   "source": []
  }
 ],
 "metadata": {
  "kernelspec": {
   "display_name": "Python 3 (ipykernel)",
   "language": "python",
   "name": "python3"
  },
  "language_info": {
   "codemirror_mode": {
    "name": "ipython",
    "version": 3
   },
   "file_extension": ".py",
   "mimetype": "text/x-python",
   "name": "python",
   "nbconvert_exporter": "python",
   "pygments_lexer": "ipython3",
   "version": "3.9.7"
  }
 },
 "nbformat": 4,
 "nbformat_minor": 5
}
